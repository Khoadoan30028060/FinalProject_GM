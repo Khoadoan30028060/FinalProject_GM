{
 "cells": [
  {
   "cell_type": "code",
   "execution_count": 1,
   "metadata": {},
   "outputs": [
    {
     "name": "stderr",
     "output_type": "stream",
     "text": [
      "c:\\Users\\DELL\\AppData\\Local\\Programs\\Python\\Python311\\Lib\\site-packages\\torch_geometric\\typing.py:72: UserWarning: An issue occurred while importing 'torch-scatter'. Disabling its usage. Stacktrace: [WinError 127] The specified procedure could not be found\n",
      "  warnings.warn(f\"An issue occurred while importing 'torch-scatter'. \"\n",
      "c:\\Users\\DELL\\AppData\\Local\\Programs\\Python\\Python311\\Lib\\site-packages\\torch_geometric\\typing.py:110: UserWarning: An issue occurred while importing 'torch-sparse'. Disabling its usage. Stacktrace: [WinError 127] The specified procedure could not be found\n",
      "  warnings.warn(f\"An issue occurred while importing 'torch-sparse'. \"\n"
     ]
    }
   ],
   "source": [
    "from torch_geometric.datasets import TUDataset\n",
    "from torch_geometric.utils import to_networkx\n",
    "import pandas as pd"
   ]
  },
  {
   "cell_type": "code",
   "execution_count": 2,
   "metadata": {},
   "outputs": [],
   "source": [
    "dataset_name = 'IMDB-MULTI'\n",
    "dataset = TUDataset(root=f'{dataset_name}', name=dataset_name)\n",
    "graphs = [to_networkx(data=graph, to_undirected=True) for graph in dataset]"
   ]
  },
  {
   "cell_type": "code",
   "execution_count": 3,
   "metadata": {},
   "outputs": [
    {
     "data": {
      "text/html": [
       "<div>\n",
       "<style scoped>\n",
       "    .dataframe tbody tr th:only-of-type {\n",
       "        vertical-align: middle;\n",
       "    }\n",
       "\n",
       "    .dataframe tbody tr th {\n",
       "        vertical-align: top;\n",
       "    }\n",
       "\n",
       "    .dataframe thead th {\n",
       "        text-align: right;\n",
       "    }\n",
       "</style>\n",
       "<table border=\"1\" class=\"dataframe\">\n",
       "  <thead>\n",
       "    <tr style=\"text-align: right;\">\n",
       "      <th></th>\n",
       "      <th>graphs</th>\n",
       "    </tr>\n",
       "  </thead>\n",
       "  <tbody>\n",
       "    <tr>\n",
       "      <th>0</th>\n",
       "      <td>[(0, 1), (0, 2), (0, 3), (0, 4), (0, 5), (0, 6...</td>\n",
       "    </tr>\n",
       "    <tr>\n",
       "      <th>1</th>\n",
       "      <td>[(0, 4), (0, 5), (0, 7), (0, 8), (0, 9), (0, 1...</td>\n",
       "    </tr>\n",
       "    <tr>\n",
       "      <th>2</th>\n",
       "      <td>[(0, 1), (0, 2), (0, 3), (0, 4), (0, 5), (0, 6...</td>\n",
       "    </tr>\n",
       "    <tr>\n",
       "      <th>3</th>\n",
       "      <td>[(0, 1), (0, 2), (0, 3), (0, 4), (0, 5), (0, 6...</td>\n",
       "    </tr>\n",
       "    <tr>\n",
       "      <th>4</th>\n",
       "      <td>[(0, 3), (0, 7), (0, 9), (1, 2), (1, 4), (1, 5...</td>\n",
       "    </tr>\n",
       "    <tr>\n",
       "      <th>...</th>\n",
       "      <td>...</td>\n",
       "    </tr>\n",
       "    <tr>\n",
       "      <th>1495</th>\n",
       "      <td>[(0, 1), (0, 2), (0, 5), (0, 6), (0, 10), (1, ...</td>\n",
       "    </tr>\n",
       "    <tr>\n",
       "      <th>1496</th>\n",
       "      <td>[(0, 1), (0, 2), (0, 3), (0, 4), (0, 5), (0, 6...</td>\n",
       "    </tr>\n",
       "    <tr>\n",
       "      <th>1497</th>\n",
       "      <td>[(0, 1), (0, 3), (0, 4), (0, 5), (0, 6), (0, 1...</td>\n",
       "    </tr>\n",
       "    <tr>\n",
       "      <th>1498</th>\n",
       "      <td>[(0, 1), (0, 2), (0, 3), (0, 4), (0, 5), (0, 6...</td>\n",
       "    </tr>\n",
       "    <tr>\n",
       "      <th>1499</th>\n",
       "      <td>[(0, 1), (0, 2), (0, 3), (0, 4), (0, 5), (0, 6...</td>\n",
       "    </tr>\n",
       "  </tbody>\n",
       "</table>\n",
       "<p>1500 rows × 1 columns</p>\n",
       "</div>"
      ],
      "text/plain": [
       "                                                 graphs\n",
       "0     [(0, 1), (0, 2), (0, 3), (0, 4), (0, 5), (0, 6...\n",
       "1     [(0, 4), (0, 5), (0, 7), (0, 8), (0, 9), (0, 1...\n",
       "2     [(0, 1), (0, 2), (0, 3), (0, 4), (0, 5), (0, 6...\n",
       "3     [(0, 1), (0, 2), (0, 3), (0, 4), (0, 5), (0, 6...\n",
       "4     [(0, 3), (0, 7), (0, 9), (1, 2), (1, 4), (1, 5...\n",
       "...                                                 ...\n",
       "1495  [(0, 1), (0, 2), (0, 5), (0, 6), (0, 10), (1, ...\n",
       "1496  [(0, 1), (0, 2), (0, 3), (0, 4), (0, 5), (0, 6...\n",
       "1497  [(0, 1), (0, 3), (0, 4), (0, 5), (0, 6), (0, 1...\n",
       "1498  [(0, 1), (0, 2), (0, 3), (0, 4), (0, 5), (0, 6...\n",
       "1499  [(0, 1), (0, 2), (0, 3), (0, 4), (0, 5), (0, 6...\n",
       "\n",
       "[1500 rows x 1 columns]"
      ]
     },
     "execution_count": 3,
     "metadata": {},
     "output_type": "execute_result"
    }
   ],
   "source": [
    "df = pd.DataFrame([str(list(graph.edges)) for graph in graphs])\n",
    "df.columns=[\"graphs\"]\n",
    "df"
   ]
  },
  {
   "cell_type": "code",
   "execution_count": 4,
   "metadata": {},
   "outputs": [],
   "source": [
    "df.to_csv(\"dataset.csv\",index=False)"
   ]
  }
 ],
 "metadata": {
  "kernelspec": {
   "display_name": "Python 3",
   "language": "python",
   "name": "python3"
  },
  "language_info": {
   "codemirror_mode": {
    "name": "ipython",
    "version": 3
   },
   "file_extension": ".py",
   "mimetype": "text/x-python",
   "name": "python",
   "nbconvert_exporter": "python",
   "pygments_lexer": "ipython3",
   "version": "3.11.3"
  }
 },
 "nbformat": 4,
 "nbformat_minor": 2
}
