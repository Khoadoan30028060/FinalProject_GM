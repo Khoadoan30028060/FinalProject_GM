{
 "cells": [
  {
   "cell_type": "code",
   "execution_count": 6,
   "metadata": {},
   "outputs": [],
   "source": [
    "from torch_geometric.datasets import TUDataset\n",
    "from torch_geometric.utils import to_networkx\n",
    "import pandas as pd\n",
    "\n",
    "dataset_name = 'IMDB-MULTI'\n",
    "dataset = TUDataset(root=f'{dataset_name}', name=dataset_name)\n",
    "graphs = [to_networkx(data=graph, to_undirected=True) for graph in dataset]\n",
    "\n",
    "df = pd.DataFrame([str(list(graph.edges)) for graph in graphs])\n",
    "df.to_csv(\"dataset.csv\")"
   ]
  }
 ],
 "metadata": {
  "kernelspec": {
   "display_name": "Python 3",
   "language": "python",
   "name": "python3"
  },
  "language_info": {
   "codemirror_mode": {
    "name": "ipython",
    "version": 3
   },
   "file_extension": ".py",
   "mimetype": "text/x-python",
   "name": "python",
   "nbconvert_exporter": "python",
   "pygments_lexer": "ipython3",
   "version": "3.11.3"
  }
 },
 "nbformat": 4,
 "nbformat_minor": 2
}
