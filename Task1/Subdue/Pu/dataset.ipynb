{
 "cells": [
  {
   "cell_type": "markdown",
   "metadata": {},
   "source": [
    "# FINAL PROJECT_GM_VNU HCM - UNIVERSITY OF SCIENCE\n",
    "\n",
    "Subject: Graph Mining\n",
    "\n",
    "Class: 21KHDL\n",
    "\n",
    "Teacher: Lê Ngọc Thành - Lê Nhựt Nam\n",
    "\n",
    "## Member information\n",
    "\n",
    "|Name|Student ID|\n",
    "|---|---|\n",
    "|[Doãn Anh Khoa](https://github.com/Khoadoan30028060)|21127076|\n",
    "|[Đoàn Việt Hưng](https://github.com/DoanVietHung03)|21127289|\n",
    "|[Đinh Bảo Trân](https://github.com/Btrnn)|21127454|\n",
    "|[Lê Nguyễn Phương Uyên](https://github.com/Dofukoto)|21127476|\n",
    "\n",
    "---"
   ]
  },
  {
   "cell_type": "markdown",
   "metadata": {},
   "source": [
    "## Dataset for frequent subgraph mining"
   ]
  },
  {
   "cell_type": "code",
   "execution_count": 4,
   "metadata": {},
   "outputs": [],
   "source": [
    "import networkx as nx\n",
    "import matplotlib.pyplot as plt\n",
    "from torch_geometric.datasets import TUDataset\n",
    "from torch_geometric.utils import to_networkx"
   ]
  },
  {
   "cell_type": "code",
   "execution_count": 5,
   "metadata": {},
   "outputs": [
    {
     "name": "stderr",
     "output_type": "stream",
     "text": [
      "Downloading https://www.chrsmrrs.com/graphkerneldatasets/IMDB-MULTI.zip\n",
      "Processing...\n",
      "Done!\n"
     ]
    }
   ],
   "source": [
    "dataset_name = 'IMDB-MULTI'\n",
    "dataset = TUDataset(root=f'data/{dataset_name}', name=dataset_name)\n",
    "graphs = [to_networkx(data=graph, to_undirected=True) for graph in dataset]"
   ]
  },
  {
   "cell_type": "code",
   "execution_count": 6,
   "metadata": {},
   "outputs": [],
   "source": [
    "graph_edges_list = [graph.edges for graph in graphs]"
   ]
  }
 ],
 "metadata": {
  "kernelspec": {
   "display_name": "Python 3",
   "language": "python",
   "name": "python3"
  },
  "language_info": {
   "codemirror_mode": {
    "name": "ipython",
    "version": 3
   },
   "file_extension": ".py",
   "mimetype": "text/x-python",
   "name": "python",
   "nbconvert_exporter": "python",
   "pygments_lexer": "ipython3",
   "version": "3.11.3"
  }
 },
 "nbformat": 4,
 "nbformat_minor": 2
}
