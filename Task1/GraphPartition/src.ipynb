{
 "cells": [
  {
   "cell_type": "markdown",
   "metadata": {},
   "source": [
    "# FINAL PROJECT_GM_VNU HCM - UNIVERSITY OF SCIENCE\n",
    "\n",
    "Subject: Graph Mining\n",
    "\n",
    "Class: 21KHDL\n",
    "\n",
    "Teacher: Lê Ngọc Thành - Lê Nhựt Nam\n",
    "\n",
    "## Member information\n",
    "\n",
    "|Name|Student ID|\n",
    "|---|---|\n",
    "|[Doãn Anh Khoa](https://github.com/Khoadoan30028060)|21127076|\n",
    "|[Đoàn Việt Hưng](https://github.com/DoanVietHung03)|21127289|\n",
    "|[Đinh Bảo Trân](https://github.com/Btrnn)|21127454|\n",
    "|[Lê Nguyễn Phương Uyên](https://github.com/Dofukoto)|21127476|\n",
    "\n",
    "---"
   ]
  },
  {
   "cell_type": "markdown",
   "metadata": {},
   "source": [
    "## Task 1: Partition"
   ]
  },
  {
   "cell_type": "markdown",
   "metadata": {},
   "source": [
    "### Import necessary libraries"
   ]
  },
  {
   "cell_type": "code",
   "execution_count": null,
   "metadata": {},
   "outputs": [],
   "source": [
    "import numpy as np\n",
    "import networkx as nx\n",
    "import matplotlib.pyplot as plt"
   ]
  },
  {
   "cell_type": "markdown",
   "metadata": {},
   "source": [
    "### Girvan Newman and Edge betweenness"
   ]
  },
  {
   "cell_type": "markdown",
   "metadata": {},
   "source": [
    "### Spectral clustering"
   ]
  },
  {
   "cell_type": "markdown",
   "metadata": {},
   "source": [
    "### Louvain "
   ]
  },
  {
   "cell_type": "markdown",
   "metadata": {},
   "source": [
    "### Label propagation\n"
   ]
  }
 ],
 "metadata": {
  "language_info": {
   "name": "python"
  }
 },
 "nbformat": 4,
 "nbformat_minor": 2
}
